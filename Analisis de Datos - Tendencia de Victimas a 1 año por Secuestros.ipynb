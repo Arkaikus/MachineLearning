{
 "cells": [
  {
   "cell_type": "markdown",
   "metadata": {},
   "source": [
    "## Analisis de Datos: Tendencia de Victimas a Nivel Nacional a 1 año por Secuestros\n",
    "\n",
    "De acuerdo a los datos abiertos de la fiscalia se pueden agrupar la cantidad de victimas por año de hecho referentes al delito asociado que en nuestro caso es el secuestro y desapariciones\n",
    "\n",
    "El objetivo de este notebook es entrenar una red neuronal para encontrar la tendencia y predecir 5 años a futuro el numero de victimas por año\n",
    "\n",
    "### Cantidad de Victimas por Año"
   ]
  },
  {
   "cell_type": "code",
   "execution_count": 1,
   "metadata": {},
   "outputs": [],
   "source": [
    "import numpy as np\n",
    "np.random.seed(0)\n",
    "import pandas as pd\n",
    "import matplotlib.pyplot as plt\n",
    "import seaborn as sns\n",
    "from model import ModeloSecuestros"
   ]
  },
  {
   "cell_type": "markdown",
   "metadata": {},
   "source": [
    "### Secuestros por Año y Linea de Tendencia"
   ]
  },
  {
   "cell_type": "code",
   "execution_count": 2,
   "metadata": {},
   "outputs": [
    {
     "data": {
      "text/plain": [
       "<matplotlib.axes._subplots.AxesSubplot at 0x7f766a680898>"
      ]
     },
     "execution_count": 2,
     "metadata": {},
     "output_type": "execute_result"
    },
    {
     "data": {
      "image/png": "[encoded data removed]",
      "text/plain": [
       "<Figure size 432x288 with 1 Axes>"
      ]
     },
     "metadata": {
      "needs_background": "light"
     },
     "output_type": "display_data"
    }
   ],
   "source": [
    "dfSecuestros = pd.read_csv('Datasets/victimasPorAño.csv')\n",
    "dfSecuestros = dfSecuestros.rename(columns={'ANIO_HECHO':'AÑO HECHO','TOTAL_VICTIMAS':'TOTAL VICTIMAS'})\n",
    "x,y = dfSecuestros['AÑO HECHO'], dfSecuestros['TOTAL VICTIMAS']\n",
    "sns.regplot(x=x, y=y,)"
   ]
  },
  {
   "cell_type": "markdown",
   "metadata": {},
   "source": [
    "### Modelo para predecir secuestros\n",
    "### DataFrame 5 a 1 años\n",
    "\n",
    "En este dataframe se representa lo siguiente:\n",
    "- Input_0 -> Input_4 = Victimas por año en 5 años (ej: 1982 a 1986)\n",
    "- Output_0 = Victimas en el año siguiente (ej: 1987)"
   ]
  },
  {
   "cell_type": "code",
   "execution_count": 21,
   "metadata": {},
   "outputs": [
    {
     "data": {
      "text/html": [
       "<div>\n",
       "<style scoped>\n",
       "    .dataframe tbody tr th:only-of-type {\n",
       "        vertical-align: middle;\n",
       "    }\n",
       "\n",
       "    .dataframe tbody tr th {\n",
       "        vertical-align: top;\n",
       "    }\n",
       "\n",
       "    .dataframe thead th {\n",
       "        text-align: right;\n",
       "    }\n",
       "</style>\n",
       "<table border=\"1\" class=\"dataframe\">\n",
       "  <thead>\n",
       "    <tr style=\"text-align: right;\">\n",
       "      <th></th>\n",
       "      <th>Input_0</th>\n",
       "      <th>Input_1</th>\n",
       "      <th>Input_2</th>\n",
       "      <th>Input_3</th>\n",
       "      <th>Input_4</th>\n",
       "      <th>Output_0</th>\n",
       "    </tr>\n",
       "  </thead>\n",
       "  <tbody>\n",
       "    <tr>\n",
       "      <th>0</th>\n",
       "      <td>24</td>\n",
       "      <td>1</td>\n",
       "      <td>1</td>\n",
       "      <td>3</td>\n",
       "      <td>11</td>\n",
       "      <td>45</td>\n",
       "    </tr>\n",
       "    <tr>\n",
       "      <th>1</th>\n",
       "      <td>1</td>\n",
       "      <td>1</td>\n",
       "      <td>3</td>\n",
       "      <td>11</td>\n",
       "      <td>45</td>\n",
       "      <td>46</td>\n",
       "    </tr>\n",
       "    <tr>\n",
       "      <th>2</th>\n",
       "      <td>1</td>\n",
       "      <td>3</td>\n",
       "      <td>11</td>\n",
       "      <td>45</td>\n",
       "      <td>46</td>\n",
       "      <td>42</td>\n",
       "    </tr>\n",
       "    <tr>\n",
       "      <th>3</th>\n",
       "      <td>3</td>\n",
       "      <td>11</td>\n",
       "      <td>45</td>\n",
       "      <td>46</td>\n",
       "      <td>42</td>\n",
       "      <td>358</td>\n",
       "    </tr>\n",
       "    <tr>\n",
       "      <th>4</th>\n",
       "      <td>11</td>\n",
       "      <td>45</td>\n",
       "      <td>46</td>\n",
       "      <td>42</td>\n",
       "      <td>358</td>\n",
       "      <td>92</td>\n",
       "    </tr>\n",
       "    <tr>\n",
       "      <th>5</th>\n",
       "      <td>45</td>\n",
       "      <td>46</td>\n",
       "      <td>42</td>\n",
       "      <td>358</td>\n",
       "      <td>92</td>\n",
       "      <td>171</td>\n",
       "    </tr>\n",
       "    <tr>\n",
       "      <th>6</th>\n",
       "      <td>46</td>\n",
       "      <td>42</td>\n",
       "      <td>358</td>\n",
       "      <td>92</td>\n",
       "      <td>171</td>\n",
       "      <td>101</td>\n",
       "    </tr>\n",
       "    <tr>\n",
       "      <th>7</th>\n",
       "      <td>42</td>\n",
       "      <td>358</td>\n",
       "      <td>92</td>\n",
       "      <td>171</td>\n",
       "      <td>101</td>\n",
       "      <td>187</td>\n",
       "    </tr>\n",
       "    <tr>\n",
       "      <th>8</th>\n",
       "      <td>358</td>\n",
       "      <td>92</td>\n",
       "      <td>171</td>\n",
       "      <td>101</td>\n",
       "      <td>187</td>\n",
       "      <td>209</td>\n",
       "    </tr>\n",
       "    <tr>\n",
       "      <th>9</th>\n",
       "      <td>92</td>\n",
       "      <td>171</td>\n",
       "      <td>101</td>\n",
       "      <td>187</td>\n",
       "      <td>209</td>\n",
       "      <td>430</td>\n",
       "    </tr>\n",
       "    <tr>\n",
       "      <th>10</th>\n",
       "      <td>171</td>\n",
       "      <td>101</td>\n",
       "      <td>187</td>\n",
       "      <td>209</td>\n",
       "      <td>430</td>\n",
       "      <td>730</td>\n",
       "    </tr>\n",
       "    <tr>\n",
       "      <th>11</th>\n",
       "      <td>101</td>\n",
       "      <td>187</td>\n",
       "      <td>209</td>\n",
       "      <td>430</td>\n",
       "      <td>730</td>\n",
       "      <td>1293</td>\n",
       "    </tr>\n",
       "    <tr>\n",
       "      <th>12</th>\n",
       "      <td>187</td>\n",
       "      <td>209</td>\n",
       "      <td>430</td>\n",
       "      <td>730</td>\n",
       "      <td>1293</td>\n",
       "      <td>2068</td>\n",
       "    </tr>\n",
       "    <tr>\n",
       "      <th>13</th>\n",
       "      <td>209</td>\n",
       "      <td>430</td>\n",
       "      <td>730</td>\n",
       "      <td>1293</td>\n",
       "      <td>2068</td>\n",
       "      <td>2203</td>\n",
       "    </tr>\n",
       "    <tr>\n",
       "      <th>14</th>\n",
       "      <td>430</td>\n",
       "      <td>730</td>\n",
       "      <td>1293</td>\n",
       "      <td>2068</td>\n",
       "      <td>2203</td>\n",
       "      <td>3139</td>\n",
       "    </tr>\n",
       "    <tr>\n",
       "      <th>15</th>\n",
       "      <td>730</td>\n",
       "      <td>1293</td>\n",
       "      <td>2068</td>\n",
       "      <td>2203</td>\n",
       "      <td>3139</td>\n",
       "      <td>3152</td>\n",
       "    </tr>\n",
       "    <tr>\n",
       "      <th>16</th>\n",
       "      <td>1293</td>\n",
       "      <td>2068</td>\n",
       "      <td>2203</td>\n",
       "      <td>3139</td>\n",
       "      <td>3152</td>\n",
       "      <td>2534</td>\n",
       "    </tr>\n",
       "    <tr>\n",
       "      <th>17</th>\n",
       "      <td>2068</td>\n",
       "      <td>2203</td>\n",
       "      <td>3139</td>\n",
       "      <td>3152</td>\n",
       "      <td>2534</td>\n",
       "      <td>1782</td>\n",
       "    </tr>\n",
       "    <tr>\n",
       "      <th>18</th>\n",
       "      <td>2203</td>\n",
       "      <td>3139</td>\n",
       "      <td>3152</td>\n",
       "      <td>2534</td>\n",
       "      <td>1782</td>\n",
       "      <td>1964</td>\n",
       "    </tr>\n",
       "    <tr>\n",
       "      <th>19</th>\n",
       "      <td>3139</td>\n",
       "      <td>3152</td>\n",
       "      <td>2534</td>\n",
       "      <td>1782</td>\n",
       "      <td>1964</td>\n",
       "      <td>2058</td>\n",
       "    </tr>\n",
       "    <tr>\n",
       "      <th>20</th>\n",
       "      <td>3152</td>\n",
       "      <td>2534</td>\n",
       "      <td>1782</td>\n",
       "      <td>1964</td>\n",
       "      <td>2058</td>\n",
       "      <td>4563</td>\n",
       "    </tr>\n",
       "    <tr>\n",
       "      <th>21</th>\n",
       "      <td>2534</td>\n",
       "      <td>1782</td>\n",
       "      <td>1964</td>\n",
       "      <td>2058</td>\n",
       "      <td>4563</td>\n",
       "      <td>3835</td>\n",
       "    </tr>\n",
       "    <tr>\n",
       "      <th>22</th>\n",
       "      <td>1782</td>\n",
       "      <td>1964</td>\n",
       "      <td>2058</td>\n",
       "      <td>4563</td>\n",
       "      <td>3835</td>\n",
       "      <td>3409</td>\n",
       "    </tr>\n",
       "    <tr>\n",
       "      <th>23</th>\n",
       "      <td>1964</td>\n",
       "      <td>2058</td>\n",
       "      <td>4563</td>\n",
       "      <td>3835</td>\n",
       "      <td>3409</td>\n",
       "      <td>3286</td>\n",
       "    </tr>\n",
       "    <tr>\n",
       "      <th>24</th>\n",
       "      <td>2058</td>\n",
       "      <td>4563</td>\n",
       "      <td>3835</td>\n",
       "      <td>3409</td>\n",
       "      <td>3286</td>\n",
       "      <td>3457</td>\n",
       "    </tr>\n",
       "    <tr>\n",
       "      <th>25</th>\n",
       "      <td>4563</td>\n",
       "      <td>3835</td>\n",
       "      <td>3409</td>\n",
       "      <td>3286</td>\n",
       "      <td>3457</td>\n",
       "      <td>2868</td>\n",
       "    </tr>\n",
       "    <tr>\n",
       "      <th>26</th>\n",
       "      <td>3835</td>\n",
       "      <td>3409</td>\n",
       "      <td>3286</td>\n",
       "      <td>3457</td>\n",
       "      <td>2868</td>\n",
       "      <td>2977</td>\n",
       "    </tr>\n",
       "    <tr>\n",
       "      <th>27</th>\n",
       "      <td>3409</td>\n",
       "      <td>3286</td>\n",
       "      <td>3457</td>\n",
       "      <td>2868</td>\n",
       "      <td>2977</td>\n",
       "      <td>2904</td>\n",
       "    </tr>\n",
       "    <tr>\n",
       "      <th>28</th>\n",
       "      <td>3286</td>\n",
       "      <td>3457</td>\n",
       "      <td>2868</td>\n",
       "      <td>2977</td>\n",
       "      <td>2904</td>\n",
       "      <td>2451</td>\n",
       "    </tr>\n",
       "    <tr>\n",
       "      <th>29</th>\n",
       "      <td>3457</td>\n",
       "      <td>2868</td>\n",
       "      <td>2977</td>\n",
       "      <td>2904</td>\n",
       "      <td>2451</td>\n",
       "      <td>2229</td>\n",
       "    </tr>\n",
       "    <tr>\n",
       "      <th>30</th>\n",
       "      <td>2868</td>\n",
       "      <td>2977</td>\n",
       "      <td>2904</td>\n",
       "      <td>2451</td>\n",
       "      <td>2229</td>\n",
       "      <td>2210</td>\n",
       "    </tr>\n",
       "    <tr>\n",
       "      <th>31</th>\n",
       "      <td>2977</td>\n",
       "      <td>2904</td>\n",
       "      <td>2451</td>\n",
       "      <td>2229</td>\n",
       "      <td>2210</td>\n",
       "      <td>2280</td>\n",
       "    </tr>\n",
       "    <tr>\n",
       "      <th>32</th>\n",
       "      <td>2904</td>\n",
       "      <td>2451</td>\n",
       "      <td>2229</td>\n",
       "      <td>2210</td>\n",
       "      <td>2280</td>\n",
       "      <td>1912</td>\n",
       "    </tr>\n",
       "    <tr>\n",
       "      <th>33</th>\n",
       "      <td>2451</td>\n",
       "      <td>2229</td>\n",
       "      <td>2210</td>\n",
       "      <td>2280</td>\n",
       "      <td>1912</td>\n",
       "      <td>261</td>\n",
       "    </tr>\n",
       "  </tbody>\n",
       "</table>\n",
       "</div>"
      ],
      "text/plain": [
       "    Input_0  Input_1  Input_2  Input_3  Input_4  Output_0\n",
       "0        24        1        1        3       11        45\n",
       "1         1        1        3       11       45        46\n",
       "2         1        3       11       45       46        42\n",
       "3         3       11       45       46       42       358\n",
       "4        11       45       46       42      358        92\n",
       "5        45       46       42      358       92       171\n",
       "6        46       42      358       92      171       101\n",
       "7        42      358       92      171      101       187\n",
       "8       358       92      171      101      187       209\n",
       "9        92      171      101      187      209       430\n",
       "10      171      101      187      209      430       730\n",
       "11      101      187      209      430      730      1293\n",
       "12      187      209      430      730     1293      2068\n",
       "13      209      430      730     1293     2068      2203\n",
       "14      430      730     1293     2068     2203      3139\n",
       "15      730     1293     2068     2203     3139      3152\n",
       "16     1293     2068     2203     3139     3152      2534\n",
       "17     2068     2203     3139     3152     2534      1782\n",
       "18     2203     3139     3152     2534     1782      1964\n",
       "19     3139     3152     2534     1782     1964      2058\n",
       "20     3152     2534     1782     1964     2058      4563\n",
       "21     2534     1782     1964     2058     4563      3835\n",
       "22     1782     1964     2058     4563     3835      3409\n",
       "23     1964     2058     4563     3835     3409      3286\n",
       "24     2058     4563     3835     3409     3286      3457\n",
       "25     4563     3835     3409     3286     3457      2868\n",
       "26     3835     3409     3286     3457     2868      2977\n",
       "27     3409     3286     3457     2868     2977      2904\n",
       "28     3286     3457     2868     2977     2904      2451\n",
       "29     3457     2868     2977     2904     2451      2229\n",
       "30     2868     2977     2904     2451     2229      2210\n",
       "31     2977     2904     2451     2229     2210      2280\n",
       "32     2904     2451     2229     2210     2280      1912\n",
       "33     2451     2229     2210     2280     1912       261"
      ]
     },
     "execution_count": 21,
     "metadata": {},
     "output_type": "execute_result"
    }
   ],
   "source": [
    "datos_csv = 'Datasets/DataSetVictimasAnios5x1.csv'\n",
    "df = pd.read_csv(datos_csv)\n",
    "df"
   ]
  },
  {
   "cell_type": "markdown",
   "metadata": {},
   "source": [
    "### Construyendo el Modelo\n",
    "\n",
    "### Modelo con Columnas Caracteristicas"
   ]
  },
  {
   "cell_type": "code",
   "execution_count": 28,
   "metadata": {},
   "outputs": [
    {
     "name": "stdout",
     "output_type": "stream",
     "text": [
      "Model: \"sequential_18\"\n",
      "_________________________________________________________________\n",
      "Layer (type)                 Output Shape              Param #   \n",
      "=================================================================\n",
      "dense_features_16 (DenseFeat multiple                  0         \n",
      "_________________________________________________________________\n",
      "dense_21 (Dense)             multiple                  6         \n",
      "=================================================================\n",
      "Total params: 6\n",
      "Trainable params: 6\n",
      "Non-trainable params: 0\n",
      "_________________________________________________________________\n"
     ]
    },
    {
     "data": {
      "text/plain": [
       "(1981.5019499158998, 1727.3826461806407)"
      ]
     },
     "execution_count": 28,
     "metadata": {},
     "output_type": "execute_result"
    }
   ],
   "source": [
    "modelo = ModeloSecuestros(csv=datos_csv, random_state = 1, inputs=['Input_{}'.format(i) for i in range(5)])\n",
    "modelo.get_feature_model().summary()\n",
    "modelo.get_rmse_feature()"
   ]
  },
  {
   "cell_type": "markdown",
   "metadata": {},
   "source": [
    "#### Grafico de Dispersión"
   ]
  },
  {
   "cell_type": "code",
   "execution_count": 29,
   "metadata": {},
   "outputs": [
    {
     "name": "stdout",
     "output_type": "stream",
     "text": [
      "RMSE. 1953.3222268959794\n"
     ]
    },
    {
     "data": {
      "image/png": "[encoded data removed]",
      "text/plain": [
       "<Figure size 432x288 with 1 Axes>"
      ]
     },
     "metadata": {
      "needs_background": "light"
     },
     "output_type": "display_data"
    }
   ],
   "source": [
    "modelo.get_feature_scatter()"
   ]
  },
  {
   "cell_type": "markdown",
   "metadata": {},
   "source": [
    "### Modelo con Capas Densas"
   ]
  },
  {
   "cell_type": "code",
   "execution_count": 12,
   "metadata": {},
   "outputs": [
    {
     "name": "stdout",
     "output_type": "stream",
     "text": [
      "Model: \"sequential_7\"\n",
      "_________________________________________________________________\n",
      "Layer (type)                 Output Shape              Param #   \n",
      "=================================================================\n",
      "dense_7 (Dense)              (None, 200)               1200      \n",
      "_________________________________________________________________\n",
      "dense_8 (Dense)              (None, 100)               20100     \n",
      "_________________________________________________________________\n",
      "dense_9 (Dense)              (None, 10)                1010      \n",
      "_________________________________________________________________\n",
      "dense_10 (Dense)             (None, 1)                 11        \n",
      "=================================================================\n",
      "Total params: 22,321\n",
      "Trainable params: 22,321\n",
      "Non-trainable params: 0\n",
      "_________________________________________________________________\n"
     ]
    },
    {
     "data": {
      "text/plain": [
       "(737.2557823951734, 849.4702525259147)"
      ]
     },
     "execution_count": 12,
     "metadata": {},
     "output_type": "execute_result"
    }
   ],
   "source": [
    "modelo.get_sequential_model().summary()\n",
    "modelo.get_rmse_sequential()"
   ]
  },
  {
   "cell_type": "markdown",
   "metadata": {},
   "source": [
    "#### Grafico de Dispersión"
   ]
  },
  {
   "cell_type": "code",
   "execution_count": 13,
   "metadata": {},
   "outputs": [
    {
     "name": "stdout",
     "output_type": "stream",
     "text": [
      "RMSE. 751.3278735200871\n"
     ]
    },
    {
     "data": {
      "image/png": "[encoded data removed]",
      "text/plain": [
       "<Figure size 432x288 with 1 Axes>"
      ]
     },
     "metadata": {
      "needs_background": "light"
     },
     "output_type": "display_data"
    }
   ],
   "source": [
    "modelo.get_sequential_scatter()"
   ]
  },
  {
   "cell_type": "markdown",
   "metadata": {},
   "source": [
    "### Maquina de Soporte Vectorial"
   ]
  },
  {
   "cell_type": "code",
   "execution_count": 16,
   "metadata": {},
   "outputs": [
    {
     "data": {
      "text/plain": [
       "(0.0, 2529.0635618742367)"
      ]
     },
     "execution_count": 16,
     "metadata": {},
     "output_type": "execute_result"
    }
   ],
   "source": [
    "modelo.get_svm_model()\n",
    "modelo.get_rmse_svm()"
   ]
  },
  {
   "cell_type": "markdown",
   "metadata": {},
   "source": [
    "### Gráfico de Dispersión"
   ]
  },
  {
   "cell_type": "code",
   "execution_count": 17,
   "metadata": {},
   "outputs": [
    {
     "name": "stdout",
     "output_type": "stream",
     "text": [
      "RMSE. 867.4616451938108\n"
     ]
    },
    {
     "data": {
      "image/png": "[encoded data removed]",
      "text/plain": [
       "<Figure size 432x288 with 1 Axes>"
      ]
     },
     "metadata": {
      "needs_background": "light"
     },
     "output_type": "display_data"
    }
   ],
   "source": [
    "modelo.get_svm_scatter()"
   ]
  },
  {
   "cell_type": "markdown",
   "metadata": {},
   "source": [
    "### Guardar Modelo a Disco"
   ]
  },
  {
   "cell_type": "code",
   "execution_count": 8,
   "metadata": {},
   "outputs": [
    {
     "name": "stdout",
     "output_type": "stream",
     "text": [
      "Saved model to disk\n"
     ]
    }
   ],
   "source": [
    "def save_feature_model():\n",
    "    # serialize model to JSON\n",
    "    model_json = modelo.feature_model.to_json()\n",
    "    with open(\"feature_model.json\", \"w\") as json_file:\n",
    "        json_file.write(model_json)\n",
    "    # serialize weights to HDF5\n",
    "    modelo.feature_model.save_weights(\"feature_model.h5\")\n",
    "    print(\"Saved model to disk\")"
   ]
  }
 ],
 "metadata": {
  "kernelspec": {
   "display_name": "Python 3",
   "language": "python",
   "name": "python3"
  },
  "language_info": {
   "codemirror_mode": {
    "name": "ipython",
    "version": 3
   },
   "file_extension": ".py",
   "mimetype": "text/x-python",
   "name": "python",
   "nbconvert_exporter": "python",
   "pygments_lexer": "ipython3",
   "version": "3.7.3"
  }
 },
 "nbformat": 4,
 "nbformat_minor": 4
}
