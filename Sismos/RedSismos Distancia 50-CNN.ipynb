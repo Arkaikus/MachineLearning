{
 "cells": [
  {
   "cell_type": "markdown",
   "metadata": {},
   "source": [
    "# Analisis de Datos: Sismos Distancia 50"
   ]
  },
  {
   "cell_type": "code",
   "execution_count": null,
   "metadata": {
    "pycharm": {
     "is_executing": false
    }
   },
   "outputs": [],
   "source": [
    "import sys\n",
    "sys.path.append('.')\n",
    "sys.path.append('..')\n",
    "\n",
    "import pandas as pd\n",
    "from sismplot import *\n",
    "from models import DNN,CNN\n",
    "from processing import location_dataset\n",
    "import matplotlib.pyplot as plt"
   ]
  },
  {
   "cell_type": "code",
   "execution_count": null,
   "metadata": {
    "pycharm": {
     "is_executing": false
    }
   },
   "outputs": [],
   "source": [
    "X_values,y_values = location_dataset(dim=38)\n",
    "X_values.shape, y_values.shape"
   ]
  },
  {
   "cell_type": "code",
   "execution_count": null,
   "metadata": {
    "pycharm": {
     "is_executing": false
    }
   },
   "outputs": [],
   "source": [
    "#y_values.copy().reshape((477,39,39))[0][6][10]"
   ]
  },
  {
   "cell_type": "code",
   "execution_count": null,
   "metadata": {
    "pycharm": {
     "is_executing": false,
     "name": "#%%\n"
    }
   },
   "outputs": [],
   "source": [
    "from sklearn.model_selection import train_test_split\n",
    "X_train, X_test, y_train, y_test = train_test_split(X_values,y_values,test_size=0.15,random_state=0,shuffle=False)\n",
    "X_train.shape, X_test.shape, y_train.shape, y_test.shape"
   ]
  },
  {
   "cell_type": "code",
   "execution_count": null,
   "metadata": {
    "pycharm": {
     "is_executing": false,
     "name": "#%%\n"
    }
   },
   "outputs": [],
   "source": [
    "cnn = CNN(save_dir=\"Sismos\\Modelos\", X_train=X_train, y_train=y_train, X_test=X_test, y_test=y_test)\n",
    "model, history = cnn.get_model(input_shape=(38, 38, 5))"
   ]
  },
  {
   "cell_type": "code",
   "execution_count": null,
   "metadata": {
    "pycharm": {
     "is_executing": false
    }
   },
   "outputs": [],
   "source": [
    "# plt.plot(history.history['accuracy'], label='accuracy')\n",
    "# #plt.plot(history.history['val_accuracy'], label = 'val_accuracy')\n",
    "# plt.xlabel('Epoch')\n",
    "# plt.ylabel('Accuracy')\n",
    "# plt.ylim([0.5, 1])\n",
    "# plt.legend(loc='lower right')\n",
    "\n",
    "test_loss, test_acc = model.evaluate(X_test,  y_test, verbose=2)\n",
    "print(test_acc)"
   ]
  },
  {
   "cell_type": "code",
   "execution_count": null,
   "metadata": {
    "pycharm": {
     "is_executing": true
    }
   },
   "outputs": [],
   "source": [
    "import matplotlib.pyplot as plt\n",
    "import numpy as np\n",
    "from matplotlib.patches import Rectangle\n",
    "from math import sqrt\n",
    "\n",
    "fig, ax = plt.subplots(figsize=(20,20))\n",
    "\n",
    "for i in range(3):\n",
    "    ax.grid(which='major', axis='both', linestyle='-', color='k', linewidth=0.1)\n",
    "    ax.set_xticks(np.arange(0,40, 1))\n",
    "    ax.set_yticks(np.arange(0,40, 1))\n",
    "\n",
    "#data = y_test[-1] #[1865:1942]\n",
    "#predict = cnn.test_prediction\n",
    "#dnn.get_predictions()#[1865+10:1942+10]\n",
    "#print('data',data.shape)\n",
    "#print('predict',predict.shape)\n",
    "for data in y_train:\n",
    "    for y in range(data.shape[0]):\n",
    "        for x in range(data.shape[1]):\n",
    "            rectangle = Rectangle((x,y), 1, 1,alpha=min(0.1*data[y][x][0], 1), facecolor='k')\n",
    "            ax.add_patch(rectangle)\n",
    "\n",
    "for predict in cnn.train_prediction:\n",
    "    for y in range(predict.shape[0]):\n",
    "        for x in range(predict.shape[1]):\n",
    "            if predict[y][x][0] > 0:\n",
    "                rectangle = Rectangle((x,y), 1, 1,alpha=min(0.1*predict[y][x][0], 1), facecolor='b')\n",
    "                ax.add_patch(rectangle)\n",
    "                \n",
    "plt.tight_layout()\n",
    "plt.show()\n"
   ]
  },
  {
   "cell_type": "code",
   "execution_count": null,
   "metadata": {
    "pycharm": {
     "is_executing": true
    }
   },
   "outputs": [],
   "source": [
    "# fig.savefig('Graficas/gris.png', dpi=240)"
   ]
  },
  {
   "cell_type": "code",
   "execution_count": null,
   "metadata": {
    "pycharm": {
     "is_executing": true,
     "name": "#%%\n"
    }
   },
   "outputs": [],
   "source": [
    "# to_save={\n",
    "#     'values':fw.y_values,\n",
    "#     'dense':fw.get_sequential_predictions(),\n",
    "#     'diff':fw.y_values-fw.get_sequential_predictions()\n",
    "# }\n",
    "# \n",
    "# dfs=pd.DataFrame(to_save)\n",
    "# dfs.to_csv('entradas_10_cuadricula_50_valores_prediccion_diferencia.csv',index=False)"
   ]
  }
 ],
 "metadata": {
  "kernelspec": {
   "display_name": "Python 3",
   "language": "python",
   "name": "python3"
  },
  "language_info": {
   "codemirror_mode": {
    "name": "ipython",
    "version": 3
   },
   "file_extension": ".py",
   "mimetype": "text/x-python",
   "name": "python",
   "nbconvert_exporter": "python",
   "pygments_lexer": "ipython3",
   "version": "3.7.7"
  },
  "pycharm": {
   "stem_cell": {
    "cell_type": "raw",
    "metadata": {
     "collapsed": false
    },
    "source": []
   }
  }
 },
 "nbformat": 4,
 "nbformat_minor": 4
}
