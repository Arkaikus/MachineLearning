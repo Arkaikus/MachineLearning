{
 "cells": [
  {
   "cell_type": "markdown",
   "metadata": {},
   "source": [
    "## Mapa Coroplético: Secuestros en Colombia por Departamentos"
   ]
  },
  {
   "cell_type": "markdown",
   "metadata": {},
   "source": [
    "### Librerias"
   ]
  },
  {
   "cell_type": "code",
   "execution_count": 1,
   "metadata": {},
   "outputs": [],
   "source": [
    "import matplotlib.pyplot as plt\n",
    "import geopandas as gpd\n",
    "import pandas as pd\n",
    "import numpy as np"
   ]
  },
  {
   "cell_type": "markdown",
   "metadata": {},
   "source": [
    "### GeoJSON de Colombia"
   ]
  },
  {
   "cell_type": "code",
   "execution_count": 2,
   "metadata": {},
   "outputs": [
    {
     "data": {
      "text/html": [
       "<div>\n",
       "<style scoped>\n",
       "    .dataframe tbody tr th:only-of-type {\n",
       "        vertical-align: middle;\n",
       "    }\n",
       "\n",
       "    .dataframe tbody tr th {\n",
       "        vertical-align: top;\n",
       "    }\n",
       "\n",
       "    .dataframe thead th {\n",
       "        text-align: right;\n",
       "    }\n",
       "</style>\n",
       "<table border=\"1\" class=\"dataframe\">\n",
       "  <thead>\n",
       "    <tr style=\"text-align: right;\">\n",
       "      <th></th>\n",
       "      <th>DPTO</th>\n",
       "      <th>NOMBRE_DPT</th>\n",
       "      <th>AREA</th>\n",
       "      <th>PERIMETER</th>\n",
       "      <th>HECTARES</th>\n",
       "      <th>geometry</th>\n",
       "    </tr>\n",
       "  </thead>\n",
       "  <tbody>\n",
       "    <tr>\n",
       "      <th>0</th>\n",
       "      <td>05</td>\n",
       "      <td>ANTIOQUIA</td>\n",
       "      <td>6.335186e+10</td>\n",
       "      <td>1963728.843</td>\n",
       "      <td>6335185.555</td>\n",
       "      <td>POLYGON ((-76.30730 8.61930, -76.29810 8.61640...</td>\n",
       "    </tr>\n",
       "    <tr>\n",
       "      <th>1</th>\n",
       "      <td>08</td>\n",
       "      <td>ATLANTICO</td>\n",
       "      <td>3.360765e+09</td>\n",
       "      <td>240936.172</td>\n",
       "      <td>336076.535</td>\n",
       "      <td>POLYGON ((-74.87060 10.36120, -74.87640 10.343...</td>\n",
       "    </tr>\n",
       "    <tr>\n",
       "      <th>2</th>\n",
       "      <td>11</td>\n",
       "      <td>SANTAFE DE BOGOTA D.C</td>\n",
       "      <td>1.650948e+09</td>\n",
       "      <td>323322.540</td>\n",
       "      <td>165094.778</td>\n",
       "      <td>POLYGON ((-74.02290 4.79510, -74.02640 4.78360...</td>\n",
       "    </tr>\n",
       "    <tr>\n",
       "      <th>3</th>\n",
       "      <td>13</td>\n",
       "      <td>BOLIVAR</td>\n",
       "      <td>2.614189e+10</td>\n",
       "      <td>1309427.968</td>\n",
       "      <td>2614189.453</td>\n",
       "      <td>POLYGON ((-75.15950 10.42360, -75.15430 10.409...</td>\n",
       "    </tr>\n",
       "    <tr>\n",
       "      <th>4</th>\n",
       "      <td>15</td>\n",
       "      <td>BOYACA</td>\n",
       "      <td>2.335258e+10</td>\n",
       "      <td>1364539.911</td>\n",
       "      <td>2335258.246</td>\n",
       "      <td>POLYGON ((-72.21300 7.02750, -72.20610 7.02460...</td>\n",
       "    </tr>\n",
       "  </tbody>\n",
       "</table>\n",
       "</div>"
      ],
      "text/plain": [
       "  DPTO             NOMBRE_DPT          AREA    PERIMETER     HECTARES  \\\n",
       "0   05              ANTIOQUIA  6.335186e+10  1963728.843  6335185.555   \n",
       "1   08              ATLANTICO  3.360765e+09   240936.172   336076.535   \n",
       "2   11  SANTAFE DE BOGOTA D.C  1.650948e+09   323322.540   165094.778   \n",
       "3   13                BOLIVAR  2.614189e+10  1309427.968  2614189.453   \n",
       "4   15                 BOYACA  2.335258e+10  1364539.911  2335258.246   \n",
       "\n",
       "                                            geometry  \n",
       "0  POLYGON ((-76.30730 8.61930, -76.29810 8.61640...  \n",
       "1  POLYGON ((-74.87060 10.36120, -74.87640 10.343...  \n",
       "2  POLYGON ((-74.02290 4.79510, -74.02640 4.78360...  \n",
       "3  POLYGON ((-75.15950 10.42360, -75.15430 10.409...  \n",
       "4  POLYGON ((-72.21300 7.02750, -72.20610 7.02460...  "
      ]
     },
     "execution_count": 2,
     "metadata": {},
     "output_type": "execute_result"
    }
   ],
   "source": [
    "# Mapa de colombia\n",
    "map_df = gpd.read_file('./Mapas/Colombia.geo.json')\n",
    "map_df.head()"
   ]
  },
  {
   "cell_type": "markdown",
   "metadata": {},
   "source": [
    "### Secuestros por Departamentos"
   ]
  },
  {
   "cell_type": "code",
   "execution_count": 3,
   "metadata": {},
   "outputs": [
    {
     "data": {
      "text/html": [
       "<div>\n",
       "<style scoped>\n",
       "    .dataframe tbody tr th:only-of-type {\n",
       "        vertical-align: middle;\n",
       "    }\n",
       "\n",
       "    .dataframe tbody tr th {\n",
       "        vertical-align: top;\n",
       "    }\n",
       "\n",
       "    .dataframe thead th {\n",
       "        text-align: right;\n",
       "    }\n",
       "</style>\n",
       "<table border=\"1\" class=\"dataframe\">\n",
       "  <thead>\n",
       "    <tr style=\"text-align: right;\">\n",
       "      <th></th>\n",
       "      <th>DEPARTAMENTO</th>\n",
       "      <th>TOTAL_VICTIMAS</th>\n",
       "    </tr>\n",
       "  </thead>\n",
       "  <tbody>\n",
       "    <tr>\n",
       "      <th>0</th>\n",
       "      <td>AMAZONAS</td>\n",
       "      <td>43</td>\n",
       "    </tr>\n",
       "    <tr>\n",
       "      <th>1</th>\n",
       "      <td>ANTIOQUIA</td>\n",
       "      <td>9212</td>\n",
       "    </tr>\n",
       "    <tr>\n",
       "      <th>2</th>\n",
       "      <td>ARAUCA</td>\n",
       "      <td>986</td>\n",
       "    </tr>\n",
       "    <tr>\n",
       "      <th>3</th>\n",
       "      <td>ARCHIPIÉLAGO DE SAN ANDRÉS, PROVIDENCIA Y SANT...</td>\n",
       "      <td>39</td>\n",
       "    </tr>\n",
       "    <tr>\n",
       "      <th>4</th>\n",
       "      <td>ATLÁNTICO</td>\n",
       "      <td>824</td>\n",
       "    </tr>\n",
       "  </tbody>\n",
       "</table>\n",
       "</div>"
      ],
      "text/plain": [
       "                                        DEPARTAMENTO  TOTAL_VICTIMAS\n",
       "0                                           AMAZONAS              43\n",
       "1                                          ANTIOQUIA            9212\n",
       "2                                             ARAUCA             986\n",
       "3  ARCHIPIÉLAGO DE SAN ANDRÉS, PROVIDENCIA Y SANT...              39\n",
       "4                                          ATLÁNTICO             824"
      ]
     },
     "execution_count": 3,
     "metadata": {},
     "output_type": "execute_result"
    }
   ],
   "source": [
    "# Datos de Secuestros por departamentos\n",
    "dfSecuestrosDepartamentos= pd.read_csv('./Datasets/SecuestrosPorDepartamentos.csv')\n",
    "dfSecuestrosDepartamentos.head()"
   ]
  },
  {
   "cell_type": "markdown",
   "metadata": {},
   "source": [
    "### Agregar Datos de Victimas al Mapa\n",
    "\n",
    "para asi crear un mapa coroplético"
   ]
  },
  {
   "cell_type": "code",
   "execution_count": 4,
   "metadata": {},
   "outputs": [
    {
     "data": {
      "text/html": [
       "<div>\n",
       "<style scoped>\n",
       "    .dataframe tbody tr th:only-of-type {\n",
       "        vertical-align: middle;\n",
       "    }\n",
       "\n",
       "    .dataframe tbody tr th {\n",
       "        vertical-align: top;\n",
       "    }\n",
       "\n",
       "    .dataframe thead th {\n",
       "        text-align: right;\n",
       "    }\n",
       "</style>\n",
       "<table border=\"1\" class=\"dataframe\">\n",
       "  <thead>\n",
       "    <tr style=\"text-align: right;\">\n",
       "      <th></th>\n",
       "      <th>DPTO</th>\n",
       "      <th>AREA</th>\n",
       "      <th>PERIMETER</th>\n",
       "      <th>HECTARES</th>\n",
       "      <th>geometry</th>\n",
       "      <th>TOTAL_VICTIMAS</th>\n",
       "    </tr>\n",
       "    <tr>\n",
       "      <th>NOMBRE_DPT</th>\n",
       "      <th></th>\n",
       "      <th></th>\n",
       "      <th></th>\n",
       "      <th></th>\n",
       "      <th></th>\n",
       "      <th></th>\n",
       "    </tr>\n",
       "  </thead>\n",
       "  <tbody>\n",
       "    <tr>\n",
       "      <th>ANTIOQUIA</th>\n",
       "      <td>05</td>\n",
       "      <td>6.335186e+10</td>\n",
       "      <td>1963728.843</td>\n",
       "      <td>6335185.555</td>\n",
       "      <td>POLYGON ((-76.30730 8.61930, -76.29810 8.61640...</td>\n",
       "      <td>9212.0</td>\n",
       "    </tr>\n",
       "    <tr>\n",
       "      <th>ATLANTICO</th>\n",
       "      <td>08</td>\n",
       "      <td>3.360765e+09</td>\n",
       "      <td>240936.172</td>\n",
       "      <td>336076.535</td>\n",
       "      <td>POLYGON ((-74.87060 10.36120, -74.87640 10.343...</td>\n",
       "      <td>0.0</td>\n",
       "    </tr>\n",
       "    <tr>\n",
       "      <th>SANTAFE DE BOGOTA D.C</th>\n",
       "      <td>11</td>\n",
       "      <td>1.650948e+09</td>\n",
       "      <td>323322.540</td>\n",
       "      <td>165094.778</td>\n",
       "      <td>POLYGON ((-74.02290 4.79510, -74.02640 4.78360...</td>\n",
       "      <td>0.0</td>\n",
       "    </tr>\n",
       "    <tr>\n",
       "      <th>BOLIVAR</th>\n",
       "      <td>13</td>\n",
       "      <td>2.614189e+10</td>\n",
       "      <td>1309427.968</td>\n",
       "      <td>2614189.453</td>\n",
       "      <td>POLYGON ((-75.15950 10.42360, -75.15430 10.409...</td>\n",
       "      <td>0.0</td>\n",
       "    </tr>\n",
       "    <tr>\n",
       "      <th>BOYACA</th>\n",
       "      <td>15</td>\n",
       "      <td>2.335258e+10</td>\n",
       "      <td>1364539.911</td>\n",
       "      <td>2335258.246</td>\n",
       "      <td>POLYGON ((-72.21300 7.02750, -72.20610 7.02460...</td>\n",
       "      <td>3404.0</td>\n",
       "    </tr>\n",
       "  </tbody>\n",
       "</table>\n",
       "</div>"
      ],
      "text/plain": [
       "                      DPTO          AREA    PERIMETER     HECTARES  \\\n",
       "NOMBRE_DPT                                                           \n",
       "ANTIOQUIA               05  6.335186e+10  1963728.843  6335185.555   \n",
       "ATLANTICO               08  3.360765e+09   240936.172   336076.535   \n",
       "SANTAFE DE BOGOTA D.C   11  1.650948e+09   323322.540   165094.778   \n",
       "BOLIVAR                 13  2.614189e+10  1309427.968  2614189.453   \n",
       "BOYACA                  15  2.335258e+10  1364539.911  2335258.246   \n",
       "\n",
       "                                                                geometry  \\\n",
       "NOMBRE_DPT                                                                 \n",
       "ANTIOQUIA              POLYGON ((-76.30730 8.61930, -76.29810 8.61640...   \n",
       "ATLANTICO              POLYGON ((-74.87060 10.36120, -74.87640 10.343...   \n",
       "SANTAFE DE BOGOTA D.C  POLYGON ((-74.02290 4.79510, -74.02640 4.78360...   \n",
       "BOLIVAR                POLYGON ((-75.15950 10.42360, -75.15430 10.409...   \n",
       "BOYACA                 POLYGON ((-72.21300 7.02750, -72.20610 7.02460...   \n",
       "\n",
       "                       TOTAL_VICTIMAS  \n",
       "NOMBRE_DPT                             \n",
       "ANTIOQUIA                      9212.0  \n",
       "ATLANTICO                         0.0  \n",
       "SANTAFE DE BOGOTA D.C             0.0  \n",
       "BOLIVAR                           0.0  \n",
       "BOYACA                         3404.0  "
      ]
     },
     "execution_count": 4,
     "metadata": {},
     "output_type": "execute_result"
    }
   ],
   "source": [
    "merged = map_df.set_index('NOMBRE_DPT').join(dfSecuestrosDepartamentos.set_index('DEPARTAMENTO'))\n",
    "merged['TOTAL_VICTIMAS']=merged['TOTAL_VICTIMAS'].apply(lambda x: 0 if np.isnan(x) else x)\n",
    "merged.head()"
   ]
  },
  {
   "cell_type": "markdown",
   "metadata": {},
   "source": [
    "### Dibujar el Mapa"
   ]
  },
  {
   "cell_type": "code",
   "execution_count": 5,
   "metadata": {},
   "outputs": [
    {
     "data": {
      "image/png": "[encoded data removed]",
      "text/plain": [
       "<Figure size 720x432 with 2 Axes>"
      ]
     },
     "metadata": {
      "needs_background": "light"
     },
     "output_type": "display_data"
    }
   ],
   "source": [
    "# set a variable that will call whatever column we want to visualise on the map\n",
    "variable = 'TOTAL_VICTIMAS'\n",
    "# set the range for the choropleth\n",
    "vmin, vmax = 0, 9212\n",
    "# create figure and axes for Matplotlib\n",
    "fig, ax = plt.subplots(1, figsize=(10, 6))\n",
    "\n",
    "merged.plot(column=variable, cmap='Blues', linewidth=0.8, ax=ax, edgecolor='0.8')\n",
    "\n",
    "# remove the axis\n",
    "ax.axis('off')\n",
    "\n",
    "# add a title\n",
    "ax.set_title('Victimas de Secuestro en Colombia por Departamento', \\\n",
    "              fontdict={'fontsize': '12',\n",
    "                        'fontweight' : '4'})\n",
    "\n",
    "# create an annotation for the  data source\n",
    "ax.annotate('Fuente: Datos abiertos de la Fiscalía',\n",
    "           xy=(0.2, .08), xycoords='figure fraction',\n",
    "           horizontalalignment='left', verticalalignment='top',\n",
    "           fontsize=10, color='#555555')\n",
    "\n",
    "# Create colorbar as a legend\n",
    "sm = plt.cm.ScalarMappable(cmap='Blues', norm=plt.Normalize(vmin=vmin, vmax=vmax))\n",
    "sm._A = []\n",
    "cbar = fig.colorbar(sm)\n",
    "\n",
    "# this will save the figure as a high-res png. you can also save as svg\n",
    "fig.savefig('./Mapas/VictimasSecuestroDepartamento.png', dpi=240)"
   ]
  }
 ],
 "metadata": {
  "kernelspec": {
   "display_name": "Python 3",
   "language": "python",
   "name": "python3"
  },
  "language_info": {
   "codemirror_mode": {
    "name": "ipython",
    "version": 3
   },
   "file_extension": ".py",
   "mimetype": "text/x-python",
   "name": "python",
   "nbconvert_exporter": "python",
   "pygments_lexer": "ipython3",
   "version": "3.7.3"
  }
 },
 "nbformat": 4,
 "nbformat_minor": 4
}
